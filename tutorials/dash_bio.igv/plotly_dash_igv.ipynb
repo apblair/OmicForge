{
 "cells": [
  {
   "cell_type": "code",
   "execution_count": 2,
   "metadata": {},
   "outputs": [
    {
     "data": {
      "text/html": [
       "\n",
       "        <iframe\n",
       "            width=\"100%\"\n",
       "            height=\"650\"\n",
       "            src=\"http://127.0.0.1:8050/\"\n",
       "            frameborder=\"0\"\n",
       "            allowfullscreen\n",
       "            \n",
       "        ></iframe>\n",
       "        "
      ],
      "text/plain": [
       "<IPython.lib.display.IFrame at 0x7f1993efea90>"
      ]
     },
     "metadata": {},
     "output_type": "display_data"
    }
   ],
   "source": [
    "from dash import Dash, html, dcc, Input, Output, callback\n",
    "import dash_bio as dashbio\n",
    "\n",
    "app = Dash()\n",
    "\n",
    "HOSTED_GENOME_DICT = [\n",
    "    {'value': 'mm10', 'label': 'Mouse (GRCm38/mm10)'},\n",
    "    {'value': 'rn6', 'label': 'Rat (RGCS 6.0/rn6)'},\n",
    "    {'value': 'gorGor4', 'label': 'Gorilla (gorGor4.1/gorGor4)'},\n",
    "    {'value': 'panTro4', 'label': 'Chimp (SAC 2.1.4/panTro4)'},\n",
    "    {'value': 'panPan2', 'label': 'Bonobo (MPI-EVA panpan1.1/panPan2)'},\n",
    "    {'value': 'canFam3', 'label': 'Dog (Broad CanFam3.1/canFam3)'},\n",
    "    {'value': 'ce11', 'label': 'C. elegans (ce11)'},\n",
    "    {'value': 'chm13v1.1', 'label': 'Human (T2T CHM13-v1.1)'}\n",
    "]\n",
    "\n",
    "app.layout = html.Div([\n",
    "    dcc.Loading(id='default-igv-container'),\n",
    "    html.Hr(),\n",
    "    html.P('Select the genome to display below.'),\n",
    "    dcc.Dropdown(\n",
    "        id='default-igv-genome-select',\n",
    "        options=HOSTED_GENOME_DICT,\n",
    "        value='ce11'\n",
    "    )\n",
    "])\n",
    "\n",
    "\n",
    "# Return the IGV component with the selected genome.\n",
    "@callback(\n",
    "    Output('default-igv-container', 'children'),\n",
    "    Input('default-igv-genome-select', 'value')\n",
    ")\n",
    "def return_igv(genome):\n",
    "    return html.Div([\n",
    "        dashbio.Igv(\n",
    "            id='default-igv',\n",
    "            genome=genome,\n",
    "            minimumBases=100,\n",
    "        )\n",
    "    ])\n",
    "\n",
    "if __name__ == '__main__':\n",
    "    app.run_server(debug=True, host='0.0.0.0', port=8060)\n"
   ]
  }
 ],
 "metadata": {
  "kernelspec": {
   "display_name": "dash_igv_env",
   "language": "python",
   "name": "python3"
  },
  "language_info": {
   "codemirror_mode": {
    "name": "ipython",
    "version": 3
   },
   "file_extension": ".py",
   "mimetype": "text/x-python",
   "name": "python",
   "nbconvert_exporter": "python",
   "pygments_lexer": "ipython3",
   "version": "3.9.21"
  }
 },
 "nbformat": 4,
 "nbformat_minor": 2
}
