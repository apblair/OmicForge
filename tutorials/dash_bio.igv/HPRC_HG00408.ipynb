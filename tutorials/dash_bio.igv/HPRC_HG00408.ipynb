{
 "cells": [
  {
   "cell_type": "code",
   "execution_count": null,
   "metadata": {},
   "outputs": [],
   "source": [
    "from dash import Dash, html\n",
    "import dash_bio as dashbio\n",
    "\n",
    "# Initialize Dash\n",
    "app = Dash()\n",
    "\n",
    "# S3 Paths\n",
    "BASE_URL = \"https://human-pangenomics.s3.us-west-2.amazonaws.com\"\n",
    "\n",
    "FASTA_FILE = f\"{BASE_URL}/submissions/DC27718F-5F38-43B0-9A78-270F395F13E8--INT_ASM_PRODUCTION/HG00408/assemblies/freeze_2/HG00408_pat_hprc_r2_v1.0.1.fa.gz\" \n",
    "FAI_FILE = f\"{BASE_URL}/submissions/DC27718F-5F38-43B0-9A78-270F395F13E8--INT_ASM_PRODUCTION/HG00408/assemblies/freeze_2/HG00408_pat_hprc_r2_v1.0.1.fa.gz.fai\"\n",
    "\n",
    "BAM_FILE = f\"{BASE_URL}/submissions/ca366a13-5bad-487b-8a57-97344e9aa0e4--HPRC_RELEASE_2_SUPPLEMENTARY_ASSEMBLY_QC/HG00408/hprc_r2/assembly_qc/read_alignments/hifi/HG00408.hifi_DC_minimap2_2.28.corrected.bam\"\n",
    "BAM_INDEX = f\"{BASE_URL}/submissions/ca366a13-5bad-487b-8a57-97344e9aa0e4--HPRC_RELEASE_2_SUPPLEMENTARY_ASSEMBLY_QC/HG00408/hprc_r2/assembly_qc/read_alignments/hifi/HG00408.hifi_DC_minimap2_2.28.corrected.bam.bai\"\n",
    "\n",
    "# IGV Viewer Layout\n",
    "app.layout = html.Div([\n",
    "    dashbio.Igv(\n",
    "        id='igv-viewer',\n",
    "        reference={\n",
    "            'id': 'hg00408_ref',\n",
    "            'name': 'HG00408 Reference',\n",
    "            'fastaURL': FASTA_FILE,\n",
    "            'indexURL': FAI_FILE  # Ensure FASTA index is included\n",
    "        },\n",
    "        locus=\"CM085953.1:121462682-121527852\",  # Ensure locus matches FASTA\n",
    "        tracks=[\n",
    "            {\n",
    "                \"name\": \"HG00408 HiFi Reads\",\n",
    "                \"url\": BAM_FILE,\n",
    "                \"indexURL\": BAM_INDEX,\n",
    "                \"format\": \"bam\",\n",
    "                \"type\": \"alignment\",\n",
    "                \"visibilityWindow\": 1000000,  # Allows zooming for BAM\n",
    "            }\n",
    "            \n",
    "        ]\n",
    "    )\n",
    "])\n",
    "\n",
    "# Run Dash App\n",
    "if __name__ == '__main__':\n",
    "    app.run_server(debug=True, host='0.0.0.0', port=8060)\n"
   ]
  }
 ],
 "metadata": {
  "language_info": {
   "name": "python"
  }
 },
 "nbformat": 4,
 "nbformat_minor": 2
}
